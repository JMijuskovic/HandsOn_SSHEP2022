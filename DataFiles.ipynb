{
 "cells": [
  {
   "cell_type": "markdown",
   "metadata": {},
   "source": [
    "## Introduction for exercise"
   ]
  },
  {
   "cell_type": "markdown",
   "metadata": {},
   "source": [
    "### Recording the data\n",
    "\n",
    "As mentioned before, there happens about billion particle collision in the CMS in one second and it is impossible to record all data from these collisions. Therefore, right after a collision trigger system will decide whether the collision has been potentially interesting or not. Non-interesting collision will not be recorded. This multi-staged triggering process reduces the amount of recorded collisions from billion to about thousand collisions per second.\n",
    "\n",
    "Data collected from collisions will be saved to AOD (Analysis Object Data) files that can be opened with the ROOT program (https://root.cern.ch/). Structures of the files are very complicated so those can't be handled for example in simple data tables.\n",
    "\n",
    "In this exercise a CSV (comma-separated-values) file format is used instead of the AOD format. A CSV file is a regular text file that contains different values separated with commas. These files can be easily read and handled with the Python programming language."
   ]
  },
  {
   "cell_type": "markdown",
   "metadata": {},
   "source": [
    "### Indirect detection of particles\n",
    "\n",
    "Not every particle can be detected directly with the CMS or other particle detectors. Often, processes of interest are short-lived. These processes can be detected indirectly.\n",
    "\n",
    "For example the Z boson, the particle that mediates weak interaction, can't be detected directly with the CMS since the lifetime of the Z is very short.\n",
    "That means that the Z boson will decay before it even reaches the silicon detector of the CMS.\n",
    "\n",
    "#### How do we detect Z boson?\n",
    "\n",
    "Indirect way of detecting Z boson is by detecting particles that originate from the decay of the Z boson.\n",
    "Z boson has many decay channel, but in todays' exercise we will consider only decay of the Z boson to the muon and antimuon pair.\n",
    "\n",
    "Important note is that the events with detected muon and antimuon pair are not all originating from Z boson. Therefore, different selections need to be applied in order to reconstruct Z boson. \n",
    "What selection would you use?"
   ]
  },
  {
   "cell_type": "markdown",
   "metadata": {},
   "source": [
    "## The invariant mass"
   ]
  },
  {
   "cell_type": "markdown",
   "metadata": {},
   "source": [
    "The mass of the Z boson can be determined with the help of a concept called _invariant mass_.\n",
    "\n",
    "Let's observe a situation where a particle with mass $M$ and energy $E$ decays to two particles with masses $m_1$ and $m_2$, and energies $E_1$ and $E_2$. Energy $E$ and momentum $\\vec{p}$ is concerved in the decay process so $E = E_1 +E_2$ and $\\vec{p} = \\vec{p}_1+ \\vec{p}_2$.\n",
    "\n",
    "Particles will obey the relativistic dispersion relation:\n",
    "\n",
    "$$\n",
    "Mc^2 = \\sqrt{E^2 - c^2\\vec{p}^2}.\n",
    "$$\n",
    "\n",
    "And with the concervation of energy and momentum this can be shown as\n",
    "\n",
    "$$\n",
    "Mc^2 = \\sqrt{(E_1+E_2)^2 - c^2(\\vec{p_1} + \\vec{p_2})^2}\n",
    "$$\n",
    "$$\n",
    "=\\sqrt{E_1^2+2E_1E_2+E_2^2 -c^2\\vec{p_1}^2-2c^2\\vec{p_1}\\cdot\\vec{p_2}-c^2\\vec{p_2}^2}\n",
    "$$\n",
    "$$\n",
    "=\\sqrt{2E_1E_2 - 2c^2 |\\vec{p_1}||\\vec{p_2}|\\cos(\\theta)+m_1^2c^4+m_2^2c^4}. \\qquad (1)\n",
    "$$\n",
    "\n",
    "The relativistic dispersion relation can be brought to the following format\n",
    "\n",
    "$$\n",
    "M^2c^4 = E^2 - c^2\\vec{p}^2\n",
    "$$\n",
    "$$\n",
    "E = \\sqrt{c^2\\vec{p}^2 + M^2c^4},\n",
    "$$\n",
    "\n",
    "from where by setting $c = 1$ (very common in particle physics) and by assuming masses of the particles very small compared to momenta, it is possible to get the following:\n",
    "\n",
    "$$\n",
    "E = \\sqrt{\\vec{p}^2 + M^2} = |\\vec{p}|\\sqrt{1+\\frac{M^2}{\\vec{p}^2}}\n",
    "\\stackrel{M<<|\\vec{p}|}{\\longrightarrow}|\\vec{p}|.\n",
    "$$\n",
    "\n",
    "By applying the result $E = |\\vec{p}|$ derived above and the setting $c=1$ to the equation (1), it can be reduced to the format\n",
    "\n",
    "$$\n",
    "M=\\sqrt{2E_1E_2(1-\\cos(\\theta))},\n",
    "$$\n",
    "\n",
    "where $\\theta$ is the angle between the momentum vector of the particles. With this equation it is possible to calculate the invariant mass for the particle pair if energies of the particles and the angle $\\theta$ is known.\n",
    "\n",
    "In experimental particle physics the equation for the invariant mass is often in the form\n",
    "\n",
    "$$\n",
    "M = \\sqrt{2p_{T1}p_{T2}( \\cosh(\\eta_1-\\eta_2)-\\cos(\\phi_1-\\phi_2) )}, \\qquad (2)\n",
    "$$\n",
    "\n",
    "\n",
    "\n"
   ]
  },
  {
   "cell_type": "markdown",
   "metadata": {},
   "source": [
    "## Hands on!"
   ]
  },
  {
   "cell_type": "markdown",
   "metadata": {},
   "source": [
    "This exercise uses data that contains collisions where two muons have been detected (among with other particles). \n",
    "By computing the invariant mass of dimuon pair, we will try to find Z boson!\n",
    "\n",
    "To indentify Z boson the invariant mass for two muons is calculated for the big amount of collision events. Then a histogram is made from the calcuated values. The histogram shows how many invariant mass values will be in each bin of the histogram.\n",
    "\n",
    "If a peak is formed in the histogram, it can prove that in the collision events there has been a particle which mass corresponds to the peak. \n"
   ]
  },
  {
   "cell_type": "markdown",
   "metadata": {},
   "source": [
    "### Getting data"
   ]
  },
  {
   "cell_type": "markdown",
   "metadata": {},
   "source": [
    "In the code below Python programming language will be used to get and analyse data.\n",
    "Python is widely used in scientific community for computing, modifying and analyzing data, and for these purposes Python is greatly optimized. Part of Python is to use different kind of modules, which are files containing definitions (functions) and statements. \n",
    "\n",
    "You can run the code cell by clicking it active and then pressing CTRL + ENTER\n"
   ]
  },
  {
   "cell_type": "code",
   "execution_count": null,
   "metadata": {},
   "outputs": [],
   "source": [
    "# Import the needed modules. Pandas is for the data-analysis, numpy for scientific calculation \n",
    "# and matplotlib for making plots.\n",
    "# Name these to \"pd\", \"np\" and \"plt\".\n",
    "\n",
    "import pandas as pd\n",
    "import numpy as np\n",
    "import matplotlib.pyplot as plt\n"
   ]
  },
  {
   "cell_type": "markdown",
   "metadata": {},
   "source": [
    "Open data from CMS-experiment is in .csv files. For a computer, this kind of data is easy to read using pandas-module. Saving the read file in a variable makes the variable type dataframe. "
   ]
  },
  {
   "cell_type": "code",
   "execution_count": null,
   "metadata": {},
   "outputs": [],
   "source": [
    "# Create a new DataFrame structure from the file \"Zmumu_Run2011A.csv\". Name it as \"dataset\".\n",
    "\n",
    "dataset = pd.read_csv('http://opendata.cern.ch/record/545/files/Dimuon_DoubleMu.csv')"
   ]
  },
  {
   "cell_type": "markdown",
   "metadata": {},
   "source": [
    "We can check the content that we saved to the variable _dataset_ by printing the 5 first rows with the following code. This can be done with the function variablename.head():"
   ]
  },
  {
   "cell_type": "code",
   "execution_count": null,
   "metadata": {},
   "outputs": [],
   "source": [
    "# Print first 5 rows\n"
   ]
  },
  {
   "cell_type": "markdown",
   "metadata": {},
   "source": [
    "#### Can you identify the columns of the table? What are they corresponding to?"
   ]
  },
  {
   "cell_type": "markdown",
   "metadata": {},
   "source": [
    "### Calculating invariant mass"
   ]
  },
  {
   "cell_type": "markdown",
   "metadata": {},
   "source": [
    "The invariant mass of dimuon pair is computed using formula (2).\n",
    "\n",
    "In the calculation below we will use the _numpy_ module which was named as _np_ in the first code cell. With _numpy_ it is possible to use mathematical commands like _sqrt_ and _cosh_ by calling first the name of the module (_np_) and then the command separated by a dot. So for example the square root could be called by writing _np.sqrt( )_.\n",
    "\n",
    "The _pt1_, _pt2_, _eta1_, _eta2_, _phi1_ and _phi2_ refer to the columns of the data. In the code it has to be told from where the values will be taken. So for example if you want to get the column _pt1_, you have to write _dataset.pt1_ in the code.\n",
    "\n",
    "Now we are ready to calculate the values of the invariant masses for the different events!"
   ]
  },
  {
   "cell_type": "code",
   "execution_count": null,
   "metadata": {},
   "outputs": [],
   "source": [
    "# compute invariant mass \n",
    "\n",
    "invariant_mass = \n"
   ]
  },
  {
   "cell_type": "markdown",
   "metadata": {},
   "source": [
    "After the calculation we can check which values were saved in the variable _invariant_\\__mass_ by printing the content of the variable:"
   ]
  },
  {
   "cell_type": "code",
   "execution_count": null,
   "metadata": {
    "scrolled": true
   },
   "outputs": [],
   "source": [
    "print(invariant_mass)"
   ]
  },
  {
   "cell_type": "markdown",
   "metadata": {},
   "source": [
    "### Plotting histogram"
   ]
  },
  {
   "cell_type": "markdown",
   "metadata": {},
   "source": [
    "Histograms can be created with Python with the matplotlib.pyplot module that was imported before and named as plt. With the function plt.hist() it is possible to create a histogram by giving different parameters inside the brackets. \n",
    "Now only the first three of the parameters are needed: a variable from which values the histogram is created (x), number of bins (bins=) and the lower and upper range of the bins (range=())."
   ]
  },
  {
   "cell_type": "code",
   "execution_count": null,
   "metadata": {},
   "outputs": [],
   "source": [
    "# create histogram\n",
    "plt.hist()\n",
    "\n",
    "# We can name the axes and the title and show the histogram.\n",
    "plt.xlabel('Invariant mass [GeV]')\n",
    "plt.ylabel('Number of events')\n",
    "plt.show()"
   ]
  },
  {
   "cell_type": "markdown",
   "metadata": {},
   "source": [
    "#### Describe the histogram. What information you can get from it? How many peaks do you see?\n"
   ]
  },
  {
   "cell_type": "markdown",
   "metadata": {},
   "source": [
    "### The effect of pseudorapidity to the resolution of the measurement\n",
    "\n",
    "In this section it will be shortly studied how does pseudorapidities of muons that are detected in the CMS detector affect to the mass distribution.\n",
    "As explained before, pseudorapidity $\\eta$ describes an angle of which the detected particle has differed from the particle beam (z-axis).\n",
    "\n",
    "For doing that, two different histograms will be made: an one with only muon pairs with small pseudorapidities and an one with great pseduorapidities.\n",
    "The histograms will be made with the familiar method from the earlier part of this exercise.\n",
    "\n",
    "_Note : The division of data set example with variables a and b, satisfying condition c dataset[(example.a > c) & (example.b > c)]_"
   ]
  },
  {
   "cell_type": "code",
   "execution_count": null,
   "metadata": {},
   "outputs": [],
   "source": [
    "# Import modules needed for performing this study\n",
    "\n",
    "# Open dataset\n",
    "\n",
    "\n",
    "# Set the conditions to large and small etas. \n",
    "selection_high = \n",
    "selection_small = \n",
    "\n",
    "# Create two DataFrames. Select to \"large_etas\" events where the pseudorapidities\n",
    "# of the both muons are larger than \"selection_large\". Select to \"small_etas\" events where\n",
    "# the pseudorapidities of the both muons are smaller than \"selection_small\".\n",
    "# Note: remember what is the range for pseudorapidity\n",
    "\n",
    "high_etas = \n",
    "small_etas = \n",
    "\n",
    "print('The amount of all events = %d' % len(dataset))\n",
    "print('The amount of events where the pseudorapidity of both muons has been large = %d' %len(high_etas))\n",
    "print('The amount of events where the pseudorapidity of both muons has been small = %d' %len(small_etas))"
   ]
  },
  {
   "cell_type": "markdown",
   "metadata": {},
   "source": [
    "### Plot histograms\n"
   ]
  },
  {
   "cell_type": "markdown",
   "metadata": {},
   "source": [
    "#### Histogram for high eta\n"
   ]
  },
  {
   "cell_type": "code",
   "execution_count": null,
   "metadata": {},
   "outputs": [],
   "source": [
    "# Save the invariant masses to variable \"inv_mass1\".\n",
    "inv_mass1 = high_etas['M']\n",
    "\n",
    "# Create the histogram from data in variable \"inv_mass1\". Set bins and range.\n",
    "\n",
    "\n",
    "# Set y-axis range from 0 to 60.\n",
    "axes = plt.gca()\n",
    "axes.set_ylim([0,60])\n",
    "\n",
    "# Name the axises, give a title and show the histogram.\n",
    "\n"
   ]
  },
  {
   "cell_type": "markdown",
   "metadata": {},
   "source": [
    "#### Histogram for low eta\n"
   ]
  },
  {
   "cell_type": "code",
   "execution_count": null,
   "metadata": {},
   "outputs": [],
   "source": [
    "# Plot the histogram for the small eta region\n"
   ]
  },
  {
   "cell_type": "markdown",
   "metadata": {},
   "source": [
    "#### Compare the created histograms. Is the mass distribution affected by pseudorapidity of muons? \n",
    "#### If yes, how? What could possibly explain your observation?"
   ]
  },
  {
   "cell_type": "markdown",
   "metadata": {},
   "source": [
    "### The transverse momentum distribution of muons\n",
    "\n"
   ]
  },
  {
   "cell_type": "markdown",
   "metadata": {},
   "source": [
    "In the next part of the exercise, plot the distribution of muons transverse momentum.\n"
   ]
  },
  {
   "cell_type": "code",
   "execution_count": null,
   "metadata": {},
   "outputs": [],
   "source": [
    "# Write the code for plotting muon transverse momentum\n",
    "# Follow the steps from the previous part"
   ]
  },
  {
   "cell_type": "markdown",
   "metadata": {},
   "source": [
    "#### What can you see from the plots?\n",
    "#### Study the invariant mass distributon for different muon transverser momentum ranges."
   ]
  },
  {
   "cell_type": "code",
   "execution_count": null,
   "metadata": {},
   "outputs": [],
   "source": []
  }
 ],
 "metadata": {
  "kernelspec": {
   "display_name": "Python 3 (ipykernel)",
   "language": "python",
   "name": "python3"
  },
  "language_info": {
   "codemirror_mode": {
    "name": "ipython",
    "version": 3
   },
   "file_extension": ".py",
   "mimetype": "text/x-python",
   "name": "python",
   "nbconvert_exporter": "python",
   "pygments_lexer": "ipython3",
   "version": "3.7.12"
  }
 },
 "nbformat": 4,
 "nbformat_minor": 1
}
