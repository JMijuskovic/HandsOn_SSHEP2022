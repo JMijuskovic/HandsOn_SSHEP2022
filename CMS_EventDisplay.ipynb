{
 "cells": [
  {
   "cell_type": "markdown",
   "metadata": {},
   "source": [
    "# CMS event display and object reconstruction"
   ]
  },
  {
   "cell_type": "markdown",
   "metadata": {},
   "source": [
    "For visualization of events detected and reconstructed by the CMS Experiment at the Large Hadron Collider at CERN\n",
    "iSpy WebGL application is used. iSpy WebGL is used for monitoring of CMS detector performance, for production of images and animations of CMS collisions events for the public, as a virtual reality application using Google Cardboard, and as a tool available for public education and outreach such as in the CERN Open Data Portal and the CMS masterclasses.\n",
    "It reads in an .ig file which contains event and geometry information.\n",
    "\n",
    "<br>\n",
    "<br>\n",
    "<br>\n"
   ]
  },
  {
   "cell_type": "markdown",
   "metadata": {},
   "source": [
    "## Let's get started!"
   ]
  },
  {
   "cell_type": "markdown",
   "metadata": {},
   "source": [
    "Open iSpy WebGL in your browser - http://opendata.web.cern.ch/visualise/events/cms .\n",
    "<img src=\"https://raw.githubusercontent.com/JMijuskovic/HandsOn_SSHEP2022/master/1.png\"  align=\"center\" width=\"900px\" title=\"iSpy\">\n",
    "\n",
    "<br>\n",
    "<br>\n",
    "<br>"
   ]
  },
  {
   "cell_type": "markdown",
   "metadata": {},
   "source": [
    "Using the toolbar open one of the files from the web. These are datasets that are collected by CMS experiment in 2010, 2011 and 2012.\n",
    "\n",
    "<img src=\"https://raw.githubusercontent.com/JMijuskovic/HandsOn_SSHEP2022/master/2.png\"  align=\"center\" width=\"900px\" title=\"iSpy\">\n",
    "\n",
    "<br>\n",
    "<br>\n",
    "<br>"
   ]
  },
  {
   "cell_type": "markdown",
   "metadata": {},
   "source": [
    "Choose one of the files and load events in order visualise event reconstruction at CMS experiment.\n",
    "\n",
    "<img src=\"https://raw.githubusercontent.com/JMijuskovic/HandsOn_SSHEP2022/master/3.png\"  align=\"center\" width=\"900px\" title=\"iSpy\">\n",
    "\n",
    "<br>\n",
    "<br>\n",
    "<br>"
   ]
  },
  {
   "cell_type": "markdown",
   "metadata": {},
   "source": [
    "By choosing different option in the toolbar on the left, you can decide what part of the detector you want to add/remove in order to see the event display more clearly. You can also decide what object you want to be shown. The details about the reconstructed object, you can acces by clicking on it.\n",
    "\n",
    "<img src=\"https://raw.githubusercontent.com/JMijuskovic/HandsOn_SSHEP2022/master/4.png\"  align=\"center\" width=\"900px\" title=\"iSpy\">\n",
    "\n",
    "<br>\n",
    "<br>\n",
    "<br>\n",
    "\n"
   ]
  },
  {
   "cell_type": "markdown",
   "metadata": {},
   "source": [
    "### Questions to be answered:\n",
    "\n",
    "<br>\n",
    "<br>\n",
    "<br>\n"
   ]
  },
  {
   "cell_type": "code",
   "execution_count": null,
   "metadata": {},
   "outputs": [],
   "source": [
    "# Let's find muons\n",
    "\n",
    "print(input(\"Muons are detected in: \"))\n",
    "print(\"What type of muons did you notice?\")\n",
    "print(input(\"1.  \"))\n",
    "print(input(\"2.  \"))\n",
    "print(input(\"3.  \"))\n"
   ]
  },
  {
   "cell_type": "code",
   "execution_count": null,
   "metadata": {},
   "outputs": [],
   "source": [
    "# Let's find electromgnetic objects\n",
    "\n",
    "print(input(\"Electrons are detected in: \"))\n",
    "print(input(\"Photons are detected in: \"))\n"
   ]
  },
  {
   "cell_type": "code",
   "execution_count": null,
   "metadata": {},
   "outputs": [],
   "source": [
    "# Let's find hadrons\n",
    "\n",
    "print(input(\"Hadrons are detected in: \"))\n",
    "print(input(\"What is the difference between charged and neutral hadrons? \"))\n"
   ]
  },
  {
   "cell_type": "code",
   "execution_count": null,
   "metadata": {},
   "outputs": [],
   "source": [
    "\n",
    "print(input(\"What did you see as a difficulty in identifyng objects? \"))\n"
   ]
  }
 ],
 "metadata": {
  "kernelspec": {
   "display_name": "Python 3 (ipykernel)",
   "language": "python",
   "name": "python3"
  },
  "language_info": {
   "codemirror_mode": {
    "name": "ipython",
    "version": 3
   },
   "file_extension": ".py",
   "mimetype": "text/x-python",
   "name": "python",
   "nbconvert_exporter": "python",
   "pygments_lexer": "ipython3",
   "version": "3.7.12"
  }
 },
 "nbformat": 4,
 "nbformat_minor": 1
}
